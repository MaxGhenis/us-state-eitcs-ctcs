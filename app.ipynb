{
 "cells": [
  {
   "cell_type": "code",
   "execution_count": 1,
   "metadata": {},
   "outputs": [],
   "source": [
    "from policyengine_us import Microsimulation\n",
    "from policyengine_core.reforms import Reform\n",
    "import pandas as pd\n",
    "\n",
    "CTCS = [\n",
    "    \"ca_yctc\", \"co_ctc\", \"co_family_affordability_credit\", \"id_ctc\", \"md_ctc\", \"mn_child_and_working_families_credits\",\"mt_ctc\", \"nc_ctc\", \"nj_ctc\",\n",
    "    \"nm_ctc\", \"ny_ctc\", \"or_ctc\", \"vt_ctc\"\n",
    "]\n",
    "\n",
    "EITCS = [\n",
    "    \"ca_eitc\", \"co_eitc\", \"ct_eitc\", \"dc_eitc\", \"de_eitc\", \"hi_eitc\", \"ia_eitc\",\n",
    "    \"il_eitc\", \"in_eitc\", \"ks_total_eitc\",\n",
    "    \"la_eitc\", \"ma_eitc\", \"md_eitc\", \"me_eitc\", \"mi_eitc\", \"mo_wftc\",\n",
    "    \"mt_eitc\", \"ne_eitc\", \"nj_eitc\", \"nm_eitc\", \"ny_eitc\", \"oh_eitc\",\n",
    "    \"ok_eitc\", \"or_eitc\", \"ri_eitc\", \"sc_eitc\", \"ut_eitc\",\n",
    "    \"va_eitc\", \"vt_eitc\",\n",
    "    \"wa_working_families_tax_credit\", \"wi_earned_income_credit\"\n",
    "]\n"
   ]
  },
  {
   "cell_type": "code",
   "execution_count": 2,
   "metadata": {},
   "outputs": [],
   "source": [
    "baseline = Microsimulation(dataset=\"cps_2022\")\n",
    "# Not sure we need this.\n",
    "baseline.macro_cache_read = False"
   ]
  },
  {
   "cell_type": "code",
   "execution_count": 3,
   "metadata": {},
   "outputs": [],
   "source": [
    "def calculate_impacts(neutralized_variables=None):\n",
    "    if neutralized_variables is None:\n",
    "        sim = Microsimulation(dataset=\"cps_2022\")\n",
    "    else:\n",
    "        class reform(Reform):\n",
    "            def apply(self):\n",
    "                for var in neutralized_variables:\n",
    "                    self.neutralize_variable(var)\n",
    "        sim = Microsimulation(reform=reform, dataset=\"cps_2022\")\n",
    "\n",
    "    sim.macro_cache_read = False\n",
    "\n",
    "    # Calculate net income\n",
    "    net_income = sim.calc(\"household_net_income\", period=2024, map_to=\"household\")\n",
    "    state_code_household = sim.calc(\"state_code\", period=2024, map_to=\"household\")\n",
    "\n",
    "    # Calculate poverty impacts\n",
    "    poverty = sim.calc(\"in_poverty\", period=2024, map_to=\"person\")\n",
    "    state_code_person = sim.calc(\"state_code\", period=2024, map_to=\"person\")\n",
    "\n",
    "    # Child poverty.\n",
    "    child = sim.calc(\"is_child\", period=2024, map_to=\"person\")\n",
    "\n",
    "    # Poverty gap.\n",
    "    poverty_gap = sim.calc(\"poverty_gap\", period=2024, map_to=\"household\")\n",
    "\n",
    "    # Calculate Gini index impacts\n",
    "    personal_hh_equiv_income = sim.calculate(\"equiv_household_net_income\")\n",
    "    household_count_people = sim.calculate(\"household_count_people\")\n",
    "    personal_hh_equiv_income.weights *= household_count_people\n",
    "\n",
    "    return pd.DataFrame({\n",
    "        \"net_income\": net_income.groupby(state_code_household).sum(),\n",
    "        \"poverty\": poverty.groupby(state_code_person).mean(),\n",
    "        \"child_poverty\": poverty[child].groupby(state_code_person).mean(),\n",
    "        \"poverty_gap\": poverty_gap.groupby(state_code_household).sum(),\n",
    "        \"gini_index\": personal_hh_equiv_income.groupby(state_code_household).gini()\n",
    "    })\n"
   ]
  },
  {
   "cell_type": "code",
   "execution_count": 4,
   "metadata": {},
   "outputs": [],
   "source": [
    "# Stack four dataframes, for impacts of\n",
    "# - baseline\n",
    "# - EITCs\n",
    "# - CTCs\n",
    "# - EITCs and CTCs\n",
    "stacked = pd.concat([\n",
    "    calculate_impacts(),\n",
    "    calculate_impacts(neutralized_variables=CTCS),\n",
    "    calculate_impacts(neutralized_variables=EITCS),\n",
    "    calculate_impacts(neutralized_variables=CTCS + EITCS)\n",
    "], keys=[\"baseline\", \"CTCs\", \"EITCs\", \"CTCs and EITCs\"])\n",
    "\n",
    "\n",
    "# Assuming your original DataFrame is called 'stacked'\n",
    "states = stacked.index.get_level_values(1).unique()\n",
    "reform_types = ['baseline', 'CTCs', 'EITCs', 'CTCs and EITCs']"
   ]
  },
  {
   "cell_type": "code",
   "execution_count": 21,
   "metadata": {},
   "outputs": [],
   "source": [
    "# Create an empty DataFrame to store the results\n",
    "result_df = pd.DataFrame(columns=['state', 'reform_type', 'net_income_diff', 'poverty_pct_diff', 'child_poverty_pct_diff', 'poverty_gap_pct_diff', 'gini_index_pct_diff'])\n",
    "\n",
    "for state in states:\n",
    "    state_data = stacked.xs(state, level=1)\n",
    "    \n",
    "    for reform_type in reform_types:\n",
    "        if reform_type == 'baseline':\n",
    "            continue\n",
    "        \n",
    "        net_income_diff = (state_data.loc[reform_type, 'net_income'] - state_data.loc['baseline', 'net_income']) / 1e9\n",
    "        poverty_pct_diff = (state_data.loc[reform_type, 'poverty'] - state_data.loc['baseline', 'poverty']) / state_data.loc['baseline', 'poverty'] \n",
    "        child_poverty_pct_diff = (state_data.loc[reform_type, 'child_poverty'] - state_data.loc['baseline', 'child_poverty']) / state_data.loc['baseline', 'child_poverty'] \n",
    "        poverty_gap_pct_diff = (state_data.loc[reform_type, 'poverty_gap'] - state_data.loc['baseline', 'poverty_gap']) / state_data.loc['baseline', 'poverty_gap'] \n",
    "        gini_index_pct_diff = (state_data.loc[reform_type, 'gini_index'] - state_data.loc['baseline', 'gini_index']) / state_data.loc['baseline', 'gini_index'] \n",
    "        \n",
    "        result_df = result_df.append({'state': state,\n",
    "                                      'reform_type': reform_type,\n",
    "                                      'net_income_diff': net_income_diff,\n",
    "                                      'poverty_pct_diff': poverty_pct_diff,\n",
    "                                      'child_poverty_pct_diff': child_poverty_pct_diff,\n",
    "                                      'poverty_gap_pct_diff': poverty_gap_pct_diff,\n",
    "                                      'gini_index_pct_diff': gini_index_pct_diff}, ignore_index=True)\n",
    "\n",
    "result_df.to_csv(\"results.csv\", index=False)"
   ]
  }
 ],
 "metadata": {
  "kernelspec": {
   "display_name": "policyengine",
   "language": "python",
   "name": "python3"
  },
  "language_info": {
   "codemirror_mode": {
    "name": "ipython",
    "version": 3
   },
   "file_extension": ".py",
   "mimetype": "text/x-python",
   "name": "python",
   "nbconvert_exporter": "python",
   "pygments_lexer": "ipython3",
   "version": "3.9.16"
  }
 },
 "nbformat": 4,
 "nbformat_minor": 2
}
