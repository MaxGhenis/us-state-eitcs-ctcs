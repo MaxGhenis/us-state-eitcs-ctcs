{
 "cells": [
  {
   "cell_type": "code",
   "execution_count": null,
   "metadata": {},
   "outputs": [],
   "source": [
    "CTCS = [\n",
    "    \"ca_yctc\", \"co_ctc\", \"co_family_affordability_credit\", \"id_ctc\", \"md_ctc\", \"mn_child_and_working_families_credits\",\"mt_ctc\", \"nc_ctc\", \"nj_ctc\",\n",
    "    \"nm_ctc\", \"ny_ctc\", \"or_ctc\", \"vt_ctc\"\n",
    "]\n",
    "\n",
    "EITCS = [\n",
    "    \"ca_eitc\", \"co_eitc\", \"ct_eitc\", \"dc_eitc\", \"de_eitc\", \"hi_eitc\", \"ia_eitc\",\n",
    "    \"il_eitc\", \"in_eitc\", \"ks_total_eitc\",\n",
    "    \"la_eitc\", \"ma_eitc\", \"md_eitc\", \"me_eitc\", \"mi_eitc\", \"mo_wftc\",\n",
    "    \"mt_eitc\", \"ne_eitc\", \"nj_eitc\", \"nm_eitc\", \"ny_eitc\", \"oh_eitc\",\n",
    "    \"ok_eitc\", \"or_eitc\", \"ri_eitc\", \"sc_eitc\", \"ut_eitc\",\n",
    "    \"va_eitc\", \"vt_eitc\",\n",
    "    \"wa_working_families_tax_credit\", \"wi_earned_income_credit\"\n",
    "]\n"
   ]
  }
 ],
 "metadata": {
  "language_info": {
   "name": "python"
  }
 },
 "nbformat": 4,
 "nbformat_minor": 2
}
